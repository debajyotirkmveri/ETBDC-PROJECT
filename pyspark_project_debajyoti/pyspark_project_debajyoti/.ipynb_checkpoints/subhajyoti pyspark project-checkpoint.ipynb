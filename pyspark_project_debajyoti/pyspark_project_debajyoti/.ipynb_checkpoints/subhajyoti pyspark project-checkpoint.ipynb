{
 "cells": [
  {
   "cell_type": "markdown",
   "id": "a135a0f9",
   "metadata": {},
   "source": [
    "import necesasry library"
   ]
  },
  {
   "cell_type": "code",
   "execution_count": 1,
   "id": "9c01f122",
   "metadata": {
    "scrolled": false
   },
   "outputs": [
    {
     "name": "stdout",
     "output_type": "stream",
     "text": [
      "Requirement already satisfied: pyspark in /home/sysadm/anaconda3/lib/python3.9/site-packages (3.4.0)\r\n",
      "Requirement already satisfied: py4j==0.10.9.7 in /home/sysadm/anaconda3/lib/python3.9/site-packages (from pyspark) (0.10.9.7)\r\n"
     ]
    }
   ],
   "source": [
    "!pip install pyspark"
   ]
  },
  {
   "cell_type": "code",
   "execution_count": 2,
   "id": "33552e8d",
   "metadata": {},
   "outputs": [],
   "source": [
    "from pyspark import SparkContext"
   ]
  },
  {
   "cell_type": "code",
   "execution_count": 3,
   "id": "ead34c43",
   "metadata": {},
   "outputs": [],
   "source": [
    "from pyspark.sql import SparkSession\n",
    "\n",
    "# Get or create SparkSession\n",
    "spark = SparkSession.builder.getOrCreate()\n",
    "\n",
    "# Rest of the code...\n"
   ]
  },
  {
   "cell_type": "code",
   "execution_count": 4,
   "id": "c0b43446",
   "metadata": {},
   "outputs": [],
   "source": [
    "\n",
    "from __future__ import print_function\n",
    "import pyspark\n",
    "from pyspark.sql import SparkSession\n",
    "from pyspark.ml.feature import VectorAssembler, VectorIndexer\n",
    "from pyspark.ml.feature import VectorAssembler\n",
    "from pyspark.ml.regression import LinearRegression\n",
    "from pyspark.ml.regression import RandomForestRegressor\n",
    "from pyspark.ml.evaluation import RegressionEvaluator"
   ]
  },
  {
   "cell_type": "code",
   "execution_count": 5,
   "id": "8c6b8a56",
   "metadata": {},
   "outputs": [],
   "source": [
    "data = spark.read.csv(\"Admission_Predict.csv\",header = True)"
   ]
  },
  {
   "cell_type": "code",
   "execution_count": 6,
   "id": "c4b6a4d4",
   "metadata": {},
   "outputs": [],
   "source": [
    "import pandas as pd"
   ]
  },
  {
   "cell_type": "code",
   "execution_count": 7,
   "id": "2e82d9f6",
   "metadata": {},
   "outputs": [
    {
     "data": {
      "text/plain": [
       "pyspark.sql.dataframe.DataFrame"
      ]
     },
     "execution_count": 7,
     "metadata": {},
     "output_type": "execute_result"
    }
   ],
   "source": [
    "type(data)"
   ]
  },
  {
   "cell_type": "code",
   "execution_count": 8,
   "id": "c2c67eca",
   "metadata": {
    "scrolled": false
   },
   "outputs": [
    {
     "name": "stdout",
     "output_type": "stream",
     "text": [
      "+----------+---------+-----------+-----------------+---+----+----+--------+----------------+\n",
      "|Serial No.|GRE Score|TOEFL Score|University Rating|SOP|LOR |CGPA|Research|Chance of Admit |\n",
      "+----------+---------+-----------+-----------------+---+----+----+--------+----------------+\n",
      "|         1|      337|        118|                4|4.5| 4.5|9.65|       1|            0.92|\n",
      "|         2|      324|        107|                4|  4| 4.5|8.87|       1|            0.76|\n",
      "|         3|      316|        104|                3|  3| 3.5|   8|       1|            0.72|\n",
      "|         4|      322|        110|                3|3.5| 2.5|8.67|       1|             0.8|\n",
      "|         5|      314|        103|                2|  2|   3|8.21|       0|            0.65|\n",
      "|         6|      330|        115|                5|4.5|   3|9.34|       1|             0.9|\n",
      "|         7|      321|        109|                3|  3|   4| 8.2|       1|            0.75|\n",
      "|         8|      308|        101|                2|  3|   4| 7.9|       0|            0.68|\n",
      "|         9|      302|        102|                1|  2| 1.5|   8|       0|             0.5|\n",
      "|        10|      323|        108|                3|3.5|   3| 8.6|       0|            0.45|\n",
      "|        11|      325|        106|                3|3.5|   4| 8.4|       1|            0.52|\n",
      "|        12|      327|        111|                4|  4| 4.5|   9|       1|            0.84|\n",
      "|        13|      328|        112|                4|  4| 4.5| 9.1|       1|            0.78|\n",
      "|        14|      307|        109|                3|  4|   3|   8|       1|            0.62|\n",
      "|        15|      311|        104|                3|3.5|   2| 8.2|       1|            0.61|\n",
      "|        16|      314|        105|                3|3.5| 2.5| 8.3|       0|            0.54|\n",
      "|        17|      317|        107|                3|  4|   3| 8.7|       0|            0.66|\n",
      "|        18|      319|        106|                3|  4|   3|   8|       1|            0.65|\n",
      "|        19|      318|        110|                3|  4|   3| 8.8|       0|            0.63|\n",
      "|        20|      303|        102|                3|3.5|   3| 8.5|       0|            0.62|\n",
      "+----------+---------+-----------+-----------------+---+----+----+--------+----------------+\n",
      "only showing top 20 rows\n",
      "\n"
     ]
    }
   ],
   "source": [
    "data.show()"
   ]
  },
  {
   "cell_type": "markdown",
   "id": "93d62bf5",
   "metadata": {},
   "source": [
    "Remove serial no for further work"
   ]
  },
  {
   "cell_type": "code",
   "execution_count": 9,
   "id": "8733d1a0",
   "metadata": {
    "scrolled": true
   },
   "outputs": [
    {
     "name": "stdout",
     "output_type": "stream",
     "text": [
      "root\n",
      " |-- GRE Score: string (nullable = true)\n",
      " |-- TOEFL Score: string (nullable = true)\n",
      " |-- University Rating: string (nullable = true)\n",
      " |-- SOP: string (nullable = true)\n",
      " |-- LOR : string (nullable = true)\n",
      " |-- CGPA: string (nullable = true)\n",
      " |-- Research: string (nullable = true)\n",
      " |-- Chance of Admit : string (nullable = true)\n",
      "\n"
     ]
    }
   ],
   "source": [
    "data = data.drop(\"Serial No.\")\n",
    "data.printSchema()\n"
   ]
  },
  {
   "cell_type": "code",
   "execution_count": null,
   "id": "53d78d3d",
   "metadata": {},
   "outputs": [],
   "source": [
    "\n"
   ]
  },
  {
   "cell_type": "code",
   "execution_count": 10,
   "id": "8c80db76",
   "metadata": {
    "scrolled": true
   },
   "outputs": [
    {
     "name": "stdout",
     "output_type": "stream",
     "text": [
      "+---------+-----------+-----------------+---+----+----+--------+----------------+\n",
      "|GRE Score|TOEFL Score|University Rating|SOP|LOR |CGPA|Research|Chance of Admit |\n",
      "+---------+-----------+-----------------+---+----+----+--------+----------------+\n",
      "|      337|        118|                4|4.5| 4.5|9.65|       1|            0.92|\n",
      "|      324|        107|                4|  4| 4.5|8.87|       1|            0.76|\n",
      "|      316|        104|                3|  3| 3.5|   8|       1|            0.72|\n",
      "|      322|        110|                3|3.5| 2.5|8.67|       1|             0.8|\n",
      "|      314|        103|                2|  2|   3|8.21|       0|            0.65|\n",
      "|      330|        115|                5|4.5|   3|9.34|       1|             0.9|\n",
      "|      321|        109|                3|  3|   4| 8.2|       1|            0.75|\n",
      "|      308|        101|                2|  3|   4| 7.9|       0|            0.68|\n",
      "|      302|        102|                1|  2| 1.5|   8|       0|             0.5|\n",
      "|      323|        108|                3|3.5|   3| 8.6|       0|            0.45|\n",
      "|      325|        106|                3|3.5|   4| 8.4|       1|            0.52|\n",
      "|      327|        111|                4|  4| 4.5|   9|       1|            0.84|\n",
      "|      328|        112|                4|  4| 4.5| 9.1|       1|            0.78|\n",
      "|      307|        109|                3|  4|   3|   8|       1|            0.62|\n",
      "|      311|        104|                3|3.5|   2| 8.2|       1|            0.61|\n",
      "|      314|        105|                3|3.5| 2.5| 8.3|       0|            0.54|\n",
      "|      317|        107|                3|  4|   3| 8.7|       0|            0.66|\n",
      "|      319|        106|                3|  4|   3|   8|       1|            0.65|\n",
      "|      318|        110|                3|  4|   3| 8.8|       0|            0.63|\n",
      "|      303|        102|                3|3.5|   3| 8.5|       0|            0.62|\n",
      "|      312|        107|                3|  3|   2| 7.9|       1|            0.64|\n",
      "|      325|        114|                4|  3|   2| 8.4|       0|             0.7|\n",
      "|      328|        116|                5|  5|   5| 9.5|       1|            0.94|\n",
      "|      334|        119|                5|  5| 4.5| 9.7|       1|            0.95|\n",
      "|      336|        119|                5|  4| 3.5| 9.8|       1|            0.97|\n",
      "|      340|        120|                5|4.5| 4.5| 9.6|       1|            0.94|\n",
      "|      322|        109|                5|4.5| 3.5| 8.8|       0|            0.76|\n",
      "|      298|         98|                2|1.5| 2.5| 7.5|       1|            0.44|\n",
      "|      295|         93|                1|  2|   2| 7.2|       0|            0.46|\n",
      "|      310|         99|                2|1.5|   2| 7.3|       0|            0.54|\n",
      "|      300|         97|                2|  3|   3| 8.1|       1|            0.65|\n",
      "|      327|        103|                3|  4|   4| 8.3|       1|            0.74|\n",
      "|      338|        118|                4|  3| 4.5| 9.4|       1|            0.91|\n",
      "|      340|        114|                5|  4|   4| 9.6|       1|             0.9|\n",
      "|      331|        112|                5|  4|   5| 9.8|       1|            0.94|\n",
      "|      320|        110|                5|  5|   5| 9.2|       1|            0.88|\n",
      "|      299|        106|                2|  4|   4| 8.4|       0|            0.64|\n",
      "|      300|        105|                1|  1|   2| 7.8|       0|            0.58|\n",
      "|      304|        105|                1|  3| 1.5| 7.5|       0|            0.52|\n",
      "|      307|        108|                2|  4| 3.5| 7.7|       0|            0.48|\n",
      "|      308|        110|                3|3.5|   3|   8|       1|            0.46|\n",
      "|      316|        105|                2|2.5| 2.5| 8.2|       1|            0.49|\n",
      "|      313|        107|                2|2.5|   2| 8.5|       1|            0.53|\n",
      "|      332|        117|                4|4.5|   4| 9.1|       0|            0.87|\n",
      "|      326|        113|                5|4.5|   4| 9.4|       1|            0.91|\n",
      "|      322|        110|                5|  5|   4| 9.1|       1|            0.88|\n",
      "|      329|        114|                5|  4|   5| 9.3|       1|            0.86|\n",
      "|      339|        119|                5|4.5|   4| 9.7|       0|            0.89|\n",
      "|      321|        110|                3|3.5|   5|8.85|       1|            0.82|\n",
      "|      327|        111|                4|  3|   4| 8.4|       1|            0.78|\n",
      "+---------+-----------+-----------------+---+----+----+--------+----------------+\n",
      "only showing top 50 rows\n",
      "\n"
     ]
    }
   ],
   "source": [
    "data.show(50)"
   ]
  },
  {
   "cell_type": "code",
   "execution_count": 11,
   "id": "a29ea2a4",
   "metadata": {},
   "outputs": [
    {
     "name": "stdout",
     "output_type": "stream",
     "text": [
      "root\n",
      " |-- GRE Score: string (nullable = true)\n",
      " |-- TOEFL Score: string (nullable = true)\n",
      " |-- University Rating: string (nullable = true)\n",
      " |-- SOP: string (nullable = true)\n",
      " |-- LOR : string (nullable = true)\n",
      " |-- CGPA: string (nullable = true)\n",
      " |-- Research: string (nullable = true)\n",
      " |-- Chance of Admit : string (nullable = true)\n",
      "\n"
     ]
    }
   ],
   "source": [
    "data.printSchema()"
   ]
  },
  {
   "cell_type": "code",
   "execution_count": 12,
   "id": "eba3601d",
   "metadata": {
    "scrolled": true
   },
   "outputs": [
    {
     "data": {
      "text/plain": [
       "['GRE Score',\n",
       " 'TOEFL Score',\n",
       " 'University Rating',\n",
       " 'SOP',\n",
       " 'LOR ',\n",
       " 'CGPA',\n",
       " 'Research',\n",
       " 'Chance of Admit ']"
      ]
     },
     "execution_count": 12,
     "metadata": {},
     "output_type": "execute_result"
    }
   ],
   "source": [
    "data.columns"
   ]
  },
  {
   "cell_type": "code",
   "execution_count": 13,
   "id": "a4d893f0",
   "metadata": {},
   "outputs": [
    {
     "name": "stdout",
     "output_type": "stream",
     "text": [
      "root\n",
      " |-- GRE Score: float (nullable = true)\n",
      " |-- TOEFL Score: float (nullable = true)\n",
      " |-- University Rating: float (nullable = true)\n",
      " |-- SOP: float (nullable = true)\n",
      " |-- LOR : float (nullable = true)\n",
      " |-- CGPA: float (nullable = true)\n",
      " |-- Research: float (nullable = true)\n",
      " |-- Chance of Admit : float (nullable = true)\n",
      "\n"
     ]
    }
   ],
   "source": [
    "from pyspark.sql.functions import col\n",
    "\n",
    "new_data = data.withColumn(\"GRE Score\", col(\"GRE Score\").cast(\"float\")) \\\n",
    "               .withColumn(\"TOEFL Score\", col(\"TOEFL Score\").cast(\"float\")) \\\n",
    "               .withColumn(\"University Rating\", col(\"University Rating\").cast(\"float\")) \\\n",
    "               .withColumn(\"SOP\", col(\"SOP\").cast(\"float\")) \\\n",
    "               .withColumn(\"LOR \", col(\"LOR \").cast(\"float\")) \\\n",
    "               .withColumn(\"CGPA\", col(\"CGPA\").cast(\"float\")) \\\n",
    "               .withColumn(\"Research\", col(\"Research\").cast(\"float\")) \\\n",
    "               .withColumn(\"Chance of Admit \", col(\"Chance of Admit \").cast(\"float\"))\n",
    "\n",
    "new_data.printSchema()\n",
    "\n"
   ]
  },
  {
   "cell_type": "code",
   "execution_count": 14,
   "id": "c02cbe20",
   "metadata": {},
   "outputs": [
    {
     "name": "stdout",
     "output_type": "stream",
     "text": [
      "+---------+-----------+-----------------+---+----+----+--------+----------------+\n",
      "|GRE Score|TOEFL Score|University Rating|SOP|LOR |CGPA|Research|Chance of Admit |\n",
      "+---------+-----------+-----------------+---+----+----+--------+----------------+\n",
      "|    337.0|      118.0|              4.0|4.5| 4.5|9.65|     1.0|            0.92|\n",
      "|    324.0|      107.0|              4.0|4.0| 4.5|8.87|     1.0|            0.76|\n",
      "|    316.0|      104.0|              3.0|3.0| 3.5| 8.0|     1.0|            0.72|\n",
      "|    322.0|      110.0|              3.0|3.5| 2.5|8.67|     1.0|             0.8|\n",
      "|    314.0|      103.0|              2.0|2.0| 3.0|8.21|     0.0|            0.65|\n",
      "|    330.0|      115.0|              5.0|4.5| 3.0|9.34|     1.0|             0.9|\n",
      "|    321.0|      109.0|              3.0|3.0| 4.0| 8.2|     1.0|            0.75|\n",
      "|    308.0|      101.0|              2.0|3.0| 4.0| 7.9|     0.0|            0.68|\n",
      "|    302.0|      102.0|              1.0|2.0| 1.5| 8.0|     0.0|             0.5|\n",
      "|    323.0|      108.0|              3.0|3.5| 3.0| 8.6|     0.0|            0.45|\n",
      "|    325.0|      106.0|              3.0|3.5| 4.0| 8.4|     1.0|            0.52|\n",
      "|    327.0|      111.0|              4.0|4.0| 4.5| 9.0|     1.0|            0.84|\n",
      "|    328.0|      112.0|              4.0|4.0| 4.5| 9.1|     1.0|            0.78|\n",
      "|    307.0|      109.0|              3.0|4.0| 3.0| 8.0|     1.0|            0.62|\n",
      "|    311.0|      104.0|              3.0|3.5| 2.0| 8.2|     1.0|            0.61|\n",
      "|    314.0|      105.0|              3.0|3.5| 2.5| 8.3|     0.0|            0.54|\n",
      "|    317.0|      107.0|              3.0|4.0| 3.0| 8.7|     0.0|            0.66|\n",
      "|    319.0|      106.0|              3.0|4.0| 3.0| 8.0|     1.0|            0.65|\n",
      "|    318.0|      110.0|              3.0|4.0| 3.0| 8.8|     0.0|            0.63|\n",
      "|    303.0|      102.0|              3.0|3.5| 3.0| 8.5|     0.0|            0.62|\n",
      "+---------+-----------+-----------------+---+----+----+--------+----------------+\n",
      "only showing top 20 rows\n",
      "\n"
     ]
    }
   ],
   "source": [
    "new_data.show()"
   ]
  },
  {
   "cell_type": "code",
   "execution_count": 15,
   "id": "949f3573",
   "metadata": {},
   "outputs": [],
   "source": [
    "from pyspark.sql.functions import col, count, isnan, when\n"
   ]
  },
  {
   "cell_type": "code",
   "execution_count": 16,
   "id": "f74a6ed6",
   "metadata": {},
   "outputs": [
    {
     "name": "stdout",
     "output_type": "stream",
     "text": [
      "GRE Score\n",
      "TOEFL Score\n",
      "University Rating\n",
      "SOP\n",
      "LOR \n",
      "CGPA\n",
      "Research\n",
      "Chance of Admit \n"
     ]
    }
   ],
   "source": [
    "for c in new_data.columns:\n",
    "    print(c)"
   ]
  },
  {
   "cell_type": "code",
   "execution_count": 17,
   "id": "c5703782",
   "metadata": {
    "scrolled": true
   },
   "outputs": [
    {
     "name": "stdout",
     "output_type": "stream",
     "text": [
      "+---------+-----------+-----------------+---+----+----+--------+----------------+\n",
      "|GRE Score|TOEFL Score|University Rating|SOP|LOR |CGPA|Research|Chance of Admit |\n",
      "+---------+-----------+-----------------+---+----+----+--------+----------------+\n",
      "|        0|          0|                0|  0|   0|   0|       0|               0|\n",
      "+---------+-----------+-----------------+---+----+----+--------+----------------+\n",
      "\n"
     ]
    }
   ],
   "source": [
    "### Checking for null ir nan type values in out columns\n",
    "new_data.select([count(when(col(c).isNull(), c)).alias(c) for c in new_data.columns]).show()"
   ]
  },
  {
   "cell_type": "code",
   "execution_count": 18,
   "id": "d10c99f9",
   "metadata": {},
   "outputs": [
    {
     "data": {
      "text/plain": [
       "DataFrame[GRE Score: float, TOEFL Score: float, University Rating: float, SOP: float, LOR : float, CGPA: float, Research: float, Chance of Admit : float]"
      ]
     },
     "execution_count": 18,
     "metadata": {},
     "output_type": "execute_result"
    }
   ],
   "source": [
    "new_data"
   ]
  },
  {
   "cell_type": "code",
   "execution_count": 19,
   "id": "78025f48",
   "metadata": {},
   "outputs": [],
   "source": [
    "features = new_data.drop('Chance of Admit ')\n"
   ]
  },
  {
   "cell_type": "code",
   "execution_count": 20,
   "id": "4b3a62ef",
   "metadata": {},
   "outputs": [
    {
     "data": {
      "text/plain": [
       "DataFrame[GRE Score: float, TOEFL Score: float, University Rating: float, SOP: float, LOR : float, CGPA: float, Research: float]"
      ]
     },
     "execution_count": 20,
     "metadata": {},
     "output_type": "execute_result"
    }
   ],
   "source": [
    "features"
   ]
  },
  {
   "cell_type": "code",
   "execution_count": 21,
   "id": "bc165e46",
   "metadata": {
    "scrolled": false
   },
   "outputs": [
    {
     "name": "stdout",
     "output_type": "stream",
     "text": [
      "+---------+-----------+-----------------+---+----+----+--------+\n",
      "|GRE Score|TOEFL Score|University Rating|SOP|LOR |CGPA|Research|\n",
      "+---------+-----------+-----------------+---+----+----+--------+\n",
      "|    337.0|      118.0|              4.0|4.5| 4.5|9.65|     1.0|\n",
      "|    324.0|      107.0|              4.0|4.0| 4.5|8.87|     1.0|\n",
      "+---------+-----------+-----------------+---+----+----+--------+\n",
      "only showing top 2 rows\n",
      "\n"
     ]
    }
   ],
   "source": [
    "features.show(2)"
   ]
  },
  {
   "cell_type": "code",
   "execution_count": 22,
   "id": "14d524fd",
   "metadata": {},
   "outputs": [],
   "source": [
    "#let's assemble our features together using vectorAssembler\n",
    "assembler = VectorAssembler( inputCols=features.columns,outputCol=\"features\")"
   ]
  },
  {
   "cell_type": "code",
   "execution_count": 23,
   "id": "83673b3e",
   "metadata": {},
   "outputs": [],
   "source": [
    "output = assembler.transform(new_data)\n"
   ]
  },
  {
   "cell_type": "code",
   "execution_count": 24,
   "id": "b87ae5d1",
   "metadata": {},
   "outputs": [
    {
     "data": {
      "text/plain": [
       "DataFrame[GRE Score: float, TOEFL Score: float, University Rating: float, SOP: float, LOR : float, CGPA: float, Research: float, Chance of Admit : float, features: vector]"
      ]
     },
     "execution_count": 24,
     "metadata": {},
     "output_type": "execute_result"
    }
   ],
   "source": [
    "output"
   ]
  },
  {
   "cell_type": "markdown",
   "id": "b30552e9",
   "metadata": {},
   "source": [
    "implement linear regression"
   ]
  },
  {
   "cell_type": "code",
   "execution_count": 26,
   "id": "5a10e842",
   "metadata": {},
   "outputs": [],
   "source": [
    "output= output.select(\"features\", \"Chance of Admit \")\n"
   ]
  },
  {
   "cell_type": "code",
   "execution_count": 27,
   "id": "3743ad11",
   "metadata": {},
   "outputs": [],
   "source": [
    "output = assembler.transform(new_data)"
   ]
  },
  {
   "cell_type": "code",
   "execution_count": 28,
   "id": "f0fe2c5d",
   "metadata": {},
   "outputs": [
    {
     "data": {
      "text/plain": [
       "DataFrame[GRE Score: float, TOEFL Score: float, University Rating: float, SOP: float, LOR : float, CGPA: float, Research: float, Chance of Admit : float, features: vector]"
      ]
     },
     "execution_count": 28,
     "metadata": {},
     "output_type": "execute_result"
    }
   ],
   "source": [
    "output"
   ]
  },
  {
   "cell_type": "code",
   "execution_count": 30,
   "id": "14f35567",
   "metadata": {},
   "outputs": [],
   "source": [
    "output= output.select(\"features\", \"Chance of Admit \")\n"
   ]
  },
  {
   "cell_type": "code",
   "execution_count": 32,
   "id": "4404abcc",
   "metadata": {},
   "outputs": [],
   "source": [
    "train_df,test_df = output.randomSplit([0.7, 0.3])"
   ]
  },
  {
   "cell_type": "code",
   "execution_count": 33,
   "id": "7072a8aa",
   "metadata": {},
   "outputs": [
    {
     "name": "stdout",
     "output_type": "stream",
     "text": [
      "+--------------------+----------------+\n",
      "|            features|Chance of Admit |\n",
      "+--------------------+----------------+\n",
      "|[290.0,104.0,4.0,...|            0.45|\n",
      "|[293.0,97.0,2.0,2...|            0.64|\n",
      "|[294.0,95.0,1.0,1...|            0.49|\n",
      "|[295.0,99.0,2.0,2...|            0.57|\n",
      "|[296.0,95.0,2.0,3...|            0.44|\n",
      "|[296.0,97.0,2.0,1...|            0.49|\n",
      "|[296.0,99.0,2.0,2...|            0.61|\n",
      "|[296.0,101.0,1.0,...|             0.6|\n",
      "|[297.0,96.0,2.0,2...|            0.43|\n",
      "|[297.0,96.0,2.0,2...|            0.34|\n",
      "|[297.0,98.0,2.0,2...|            0.59|\n",
      "|[297.0,100.0,1.0,...|            0.52|\n",
      "|[298.0,92.0,1.0,2...|            0.51|\n",
      "|[298.0,98.0,2.0,1...|            0.44|\n",
      "|[298.0,98.0,2.0,4...|            0.34|\n",
      "|[298.0,99.0,2.0,4...|            0.46|\n",
      "|[298.0,105.0,3.0,...|            0.69|\n",
      "|[299.0,94.0,1.0,1...|            0.42|\n",
      "|[299.0,96.0,2.0,1...|            0.54|\n",
      "|[299.0,97.0,3.0,5...|            0.38|\n",
      "+--------------------+----------------+\n",
      "only showing top 20 rows\n",
      "\n",
      "+--------------------+----------------+\n",
      "|            features|Chance of Admit |\n",
      "+--------------------+----------------+\n",
      "|[290.0,100.0,1.0,...|            0.47|\n",
      "|[294.0,93.0,1.0,1...|            0.46|\n",
      "|[295.0,93.0,1.0,2...|            0.46|\n",
      "|[295.0,96.0,2.0,1...|            0.47|\n",
      "|[295.0,101.0,2.0,...|            0.69|\n",
      "|[296.0,99.0,2.0,3...|            0.47|\n",
      "|[298.0,99.0,1.0,1...|            0.53|\n",
      "|[298.0,101.0,2.0,...|            0.54|\n",
      "|[299.0,100.0,1.0,...|            0.59|\n",
      "|[299.0,100.0,3.0,...|            0.63|\n",
      "|[299.0,102.0,3.0,...|            0.56|\n",
      "|[300.0,100.0,3.0,...|            0.62|\n",
      "|[301.0,98.0,1.0,2...|            0.67|\n",
      "|[301.0,99.0,2.0,3...|            0.64|\n",
      "|[301.0,100.0,3.0,...|            0.67|\n",
      "|[301.0,104.0,2.0,...|            0.68|\n",
      "|[301.0,106.0,4.0,...|            0.57|\n",
      "|[301.0,107.0,3.0,...|            0.62|\n",
      "|[302.0,99.0,1.0,2...|            0.57|\n",
      "|[302.0,99.0,2.0,1...|            0.56|\n",
      "+--------------------+----------------+\n",
      "only showing top 20 rows\n",
      "\n"
     ]
    }
   ],
   "source": [
    "train_df.show()\n",
    "test_df.show()"
   ]
  },
  {
   "cell_type": "code",
   "execution_count": 34,
   "id": "732d9b35",
   "metadata": {
    "scrolled": true
   },
   "outputs": [
    {
     "name": "stderr",
     "output_type": "stream",
     "text": [
      "23/06/23 16:00:00 WARN Instrumentation: [ac170755] regParam is zero, which might cause numerical instability and overfitting.\n",
      "23/06/23 16:00:01 WARN BLAS: Failed to load implementation from: com.github.fommil.netlib.NativeSystemBLAS\n",
      "23/06/23 16:00:01 WARN BLAS: Failed to load implementation from: com.github.fommil.netlib.NativeRefBLAS\n",
      "23/06/23 16:00:01 WARN LAPACK: Failed to load implementation from: com.github.fommil.netlib.NativeSystemLAPACK\n",
      "23/06/23 16:00:01 WARN LAPACK: Failed to load implementation from: com.github.fommil.netlib.NativeRefLAPACK\n"
     ]
    }
   ],
   "source": [
    "lin_reg = LinearRegression(featuresCol = 'features', labelCol='Chance of Admit ')\n",
    "linear_model = lin_reg.fit(train_df)"
   ]
  },
  {
   "cell_type": "code",
   "execution_count": 35,
   "id": "eeb9d5bd",
   "metadata": {},
   "outputs": [
    {
     "name": "stdout",
     "output_type": "stream",
     "text": [
      "Coefficients: [0.0019815674751623405,0.0038676717057704495,0.004665619553436757,-0.0043041063174017085,0.023785434284714906,0.11936720304496554,0.017113173430002016]\n",
      "Intercept: -1.435505219014181\n"
     ]
    }
   ],
   "source": [
    "\n",
    "print(\"Coefficients: \" + str(linear_model.coefficients))\n",
    "print(\"Intercept: \" + str(linear_model.intercept))\n",
    "     "
   ]
  },
  {
   "cell_type": "code",
   "execution_count": 36,
   "id": "f1a03380",
   "metadata": {},
   "outputs": [
    {
     "name": "stdout",
     "output_type": "stream",
     "text": [
      "RMSE: 0.061823\n",
      "r2: 0.811308\n"
     ]
    }
   ],
   "source": [
    "\n",
    "trainSummary = linear_model.summary\n",
    "print(\"RMSE: %f\" % trainSummary.rootMeanSquaredError)\n",
    "print(\"r2: %f\" % trainSummary.r2)"
   ]
  },
  {
   "cell_type": "code",
   "execution_count": 38,
   "id": "d560622b",
   "metadata": {
    "scrolled": true
   },
   "outputs": [
    {
     "name": "stdout",
     "output_type": "stream",
     "text": [
      "+-------------------+----------------+--------------------+\n",
      "|         prediction|Chance of Admit |            features|\n",
      "+-------------------+----------------+--------------------+\n",
      "|0.47411289619640007|            0.47|[290.0,100.0,1.0,...|\n",
      "| 0.4310920463151504|            0.46|[294.0,93.0,1.0,1...|\n",
      "| 0.4118227694396892|            0.46|[295.0,93.0,1.0,2...|\n",
      "| 0.4469549066769103|            0.47|[295.0,96.0,2.0,1...|\n",
      "| 0.5240601021949938|            0.69|[295.0,101.0,2.0,...|\n",
      "|0.48259945586790165|            0.47|[296.0,99.0,2.0,3...|\n",
      "|0.49794648965589006|            0.53|[298.0,99.0,1.0,1...|\n",
      "| 0.5343089109378827|            0.54|[298.0,101.0,2.0,...|\n",
      "| 0.5313381713707048|            0.59|[299.0,100.0,1.0,...|\n",
      "| 0.5540351642939334|            0.63|[299.0,100.0,3.0,...|\n",
      "| 0.6604607000222611|            0.56|[299.0,102.0,3.0,...|\n",
      "| 0.6160388782885731|            0.62|[300.0,100.0,3.0,...|\n",
      "| 0.5830239099545587|            0.67|[301.0,98.0,1.0,2...|\n",
      "|  0.569034319509155|            0.64|[301.0,99.0,2.0,3...|\n",
      "|  0.577714858918303|            0.67|[301.0,100.0,3.0,...|\n",
      "| 0.5996207249198191|            0.68|[301.0,104.0,2.0,...|\n",
      "| 0.6612185487610787|            0.57|[301.0,106.0,4.0,...|\n",
      "| 0.6696046351120324|            0.62|[301.0,107.0,3.0,...|\n",
      "| 0.4548681549201836|            0.57|[302.0,99.0,1.0,2...|\n",
      "| 0.5497822419391611|            0.56|[302.0,99.0,2.0,1...|\n",
      "+-------------------+----------------+--------------------+\n",
      "only showing top 20 rows\n",
      "\n"
     ]
    }
   ],
   "source": [
    "\n",
    "# prediction\n",
    "\n",
    "predictions = linear_model.transform(test_df)\n",
    "predictions.select(\"prediction\",\"Chance of Admit \",\"features\").show()"
   ]
  },
  {
   "cell_type": "code",
   "execution_count": null,
   "id": "d8295e4e",
   "metadata": {},
   "outputs": [],
   "source": []
  }
 ],
 "metadata": {
  "kernelspec": {
   "display_name": "Python 3 (ipykernel)",
   "language": "python",
   "name": "python3"
  },
  "language_info": {
   "codemirror_mode": {
    "name": "ipython",
    "version": 3
   },
   "file_extension": ".py",
   "mimetype": "text/x-python",
   "name": "python",
   "nbconvert_exporter": "python",
   "pygments_lexer": "ipython3",
   "version": "3.9.7"
  }
 },
 "nbformat": 4,
 "nbformat_minor": 5
}
