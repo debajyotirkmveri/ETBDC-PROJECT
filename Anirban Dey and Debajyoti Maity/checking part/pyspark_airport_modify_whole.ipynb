{
 "cells": [
  {
   "cell_type": "code",
   "execution_count": 1,
   "id": "f1afb469",
   "metadata": {
    "scrolled": true
   },
   "outputs": [
    {
     "name": "stdout",
     "output_type": "stream",
     "text": [
      "root\n",
      " |-- DAY_OF_MONTH: integer (nullable = true)\n",
      " |-- DAY_OF_WEEK: integer (nullable = true)\n",
      " |-- OP_UNIQUE_CARRIER: string (nullable = true)\n",
      " |-- OP_CARRIER_AIRLINE_ID: integer (nullable = true)\n",
      " |-- OP_CARRIER: string (nullable = true)\n",
      " |-- TAIL_NUM: string (nullable = true)\n",
      " |-- OP_CARRIER_FL_NUM: integer (nullable = true)\n",
      " |-- ORIGIN_AIRPORT_ID: integer (nullable = true)\n",
      " |-- ORIGIN_AIRPORT_SEQ_ID: integer (nullable = true)\n",
      " |-- ORIGIN: string (nullable = true)\n",
      " |-- DEST_AIRPORT_ID: integer (nullable = true)\n",
      " |-- DEST_AIRPORT_SEQ_ID: integer (nullable = true)\n",
      " |-- DEST: string (nullable = true)\n",
      " |-- DEP_TIME: integer (nullable = true)\n",
      " |-- DEP_DEL15: double (nullable = true)\n",
      " |-- DEP_TIME_BLK: string (nullable = true)\n",
      " |-- ARR_TIME: integer (nullable = true)\n",
      " |-- ARR_DEL15: double (nullable = true)\n",
      " |-- CANCELLED: double (nullable = true)\n",
      " |-- DIVERTED: double (nullable = true)\n",
      " |-- DISTANCE: double (nullable = true)\n",
      " |-- _c21: string (nullable = true)\n",
      "\n"
     ]
    },
    {
     "name": "stderr",
     "output_type": "stream",
     "text": [
      "\r",
      "[Stage 1:===>                                                     (1 + 15) / 16]\r",
      "\r",
      "                                                                                \r"
     ]
    }
   ],
   "source": [
    "import pyspark # Call this only after findspark.init()\n",
    "from pyspark.context import SparkContext\n",
    "from pyspark.sql.session import SparkSession\n",
    "\n",
    "sc = SparkContext.getOrCreate()\n",
    "spark = SparkSession(sc)\n",
    "\n",
    "df = spark.read.csv(\"/home/sysadm/Downloads/bda_etbdc_end_sem_exam/Jan_2019_ontime.csv\", header = True, inferSchema = True)\n",
    "df.printSchema()"
   ]
  },
  {
   "cell_type": "code",
   "execution_count": 2,
   "id": "e1fc47d3",
   "metadata": {},
   "outputs": [],
   "source": [
    "import pandas as pd"
   ]
  },
  {
   "cell_type": "code",
   "execution_count": null,
   "id": "d023baa8",
   "metadata": {},
   "outputs": [],
   "source": []
  },
  {
   "cell_type": "code",
   "execution_count": null,
   "id": "5452d6df",
   "metadata": {},
   "outputs": [],
   "source": []
  },
  {
   "cell_type": "code",
   "execution_count": 3,
   "id": "fe1a4f51",
   "metadata": {},
   "outputs": [],
   "source": [
    "df_edges = df.withColumnRenamed('ORIGIN', 'src').withColumnRenamed('DEST', 'dst')"
   ]
  },
  {
   "cell_type": "code",
   "execution_count": 4,
   "id": "499668fb",
   "metadata": {},
   "outputs": [],
   "source": [
    "df_vertices = df.select('ORIGIN', 'ORIGIN_AIRPORT_ID').dropDuplicates(['ORIGIN']).withColumnRenamed('ORIGIN', 'id')"
   ]
  },
  {
   "cell_type": "code",
   "execution_count": 5,
   "id": "5f5ffe24",
   "metadata": {},
   "outputs": [],
   "source": [
    "from graphframes import *\n",
    "\n",
    "g = GraphFrame(df_vertices, df_edges)"
   ]
  },
  {
   "cell_type": "code",
   "execution_count": 6,
   "id": "9aad7836",
   "metadata": {},
   "outputs": [
    {
     "name": "stdout",
     "output_type": "stream",
     "text": [
      "Number of edges: 583985\n"
     ]
    }
   ],
   "source": [
    "from graphframes import GraphFrame\n",
    "\n",
    "# Assuming you have created the GraphFrame object 'g' using df_vertices and df_edges\n",
    "num_edges = g.edges.count()\n",
    "print(\"Number of edges:\", num_edges)\n"
   ]
  },
  {
   "cell_type": "code",
   "execution_count": 7,
   "id": "059b488e",
   "metadata": {},
   "outputs": [
    {
     "name": "stderr",
     "output_type": "stream",
     "text": [
      "                                                                                \r"
     ]
    },
    {
     "name": "stdout",
     "output_type": "stream",
     "text": [
      "Number of vertices: 346\n",
      "+---+-----------------+\n",
      "| id|ORIGIN_AIRPORT_ID|\n",
      "+---+-----------------+\n",
      "|BGM|            10577|\n",
      "|PSE|            14254|\n",
      "|INL|            12343|\n",
      "|MSY|            13495|\n",
      "|PPG|            14222|\n",
      "|DRT|            11415|\n",
      "|GEG|            11884|\n",
      "|SNA|            14908|\n",
      "|BUR|            10800|\n",
      "|GRB|            11977|\n",
      "|GTF|            12003|\n",
      "|IDA|            12280|\n",
      "|GRR|            11986|\n",
      "|LWB|            13121|\n",
      "|JLN|            12511|\n",
      "|PVU|            14314|\n",
      "|EUG|            11603|\n",
      "|PSG|            14256|\n",
      "|GSO|            11995|\n",
      "|PVD|            14307|\n",
      "+---+-----------------+\n",
      "only showing top 20 rows\n",
      "\n"
     ]
    }
   ],
   "source": [
    "from graphframes import GraphFrame\n",
    "\n",
    "# Assuming you have created the GraphFrame object 'g' using df_vertices and df_edges\n",
    "vertices_df = g.vertices\n",
    "\n",
    "# Count the number of vertices\n",
    "num_vertices = vertices_df.count()\n",
    "print(\"Number of vertices:\", num_vertices)\n",
    "\n",
    "# Show the vertices DataFrame\n",
    "vertices_df.show()\n"
   ]
  },
  {
   "cell_type": "code",
   "execution_count": 8,
   "id": "07b44461",
   "metadata": {},
   "outputs": [],
   "source": [
    "factor_more_than_1 = g.edges.filter('DEP_DEL15 == 1')\n",
    "df3 = factor_more_than_1.select('src', 'DEP_DEL15').distinct().orderBy('src', ascending=False)\n",
    "factor_more_than_12 = g.edges.filter('ARR_DEL15 == 1')\n",
    "df4 = factor_more_than_12.select('dst', 'ARR_DEL15').distinct().orderBy('dst', ascending=False)"
   ]
  },
  {
   "cell_type": "code",
   "execution_count": 9,
   "id": "44dd26b9",
   "metadata": {},
   "outputs": [
    {
     "name": "stderr",
     "output_type": "stream",
     "text": [
      "\r",
      "[Stage 15:>                                                       (0 + 16) / 16]\r",
      "\r",
      "[Stage 15:====================================================>   (15 + 1) / 16]\r"
     ]
    },
    {
     "name": "stdout",
     "output_type": "stream",
     "text": [
      "+---+---------+---+---------+\n",
      "|dst|ARR_DEL15|src|DEP_DEL15|\n",
      "+---+---------+---+---------+\n",
      "|BGM|      1.0|BGM|      1.0|\n",
      "|INL|      1.0|INL|      1.0|\n",
      "|PSE|      1.0|PSE|      1.0|\n",
      "|MSY|      1.0|MSY|      1.0|\n",
      "|DRT|      1.0|DRT|      1.0|\n",
      "|GEG|      1.0|GEG|      1.0|\n",
      "|BUR|      1.0|BUR|      1.0|\n",
      "|SNA|      1.0|SNA|      1.0|\n",
      "|GRB|      1.0|GRB|      1.0|\n",
      "|GTF|      1.0|GTF|      1.0|\n",
      "|IDA|      1.0|IDA|      1.0|\n",
      "|GRR|      1.0|GRR|      1.0|\n",
      "|LWB|      1.0|LWB|      1.0|\n",
      "|JLN|      1.0|JLN|      1.0|\n",
      "|PVU|      1.0|PVU|      1.0|\n",
      "|EUG|      1.0|EUG|      1.0|\n",
      "|PSG|      1.0|PSG|      1.0|\n",
      "|GSO|      1.0|GSO|      1.0|\n",
      "|MYR|      1.0|MYR|      1.0|\n",
      "|PVD|      1.0|PVD|      1.0|\n",
      "+---+---------+---+---------+\n",
      "only showing top 20 rows\n",
      "\n"
     ]
    },
    {
     "name": "stderr",
     "output_type": "stream",
     "text": [
      "\r",
      "                                                                                \r"
     ]
    }
   ],
   "source": [
    "inner = df4.join(df3, df3.src == df4.dst)\n",
    "inner.show()"
   ]
  },
  {
   "cell_type": "code",
   "execution_count": 10,
   "id": "25e00b00",
   "metadata": {},
   "outputs": [
    {
     "name": "stdout",
     "output_type": "stream",
     "text": [
      "+---+-----+\n",
      "|dst|count|\n",
      "+---+-----+\n",
      "|ATL|31151|\n",
      "|ORD|26212|\n",
      "|DFW|23078|\n",
      "|CLT|19105|\n",
      "|DEN|18498|\n",
      "|LAX|17977|\n",
      "|PHX|14764|\n",
      "|IAH|14586|\n",
      "|LGA|13882|\n",
      "|SFO|13702|\n",
      "|LAS|13219|\n",
      "|MSP|12184|\n",
      "|DTW|12160|\n",
      "|MCO|12042|\n",
      "|DCA|11851|\n",
      "|BOS|11429|\n",
      "|EWR|10536|\n",
      "|JFK|10483|\n",
      "|SEA|10227|\n",
      "|SLC| 9360|\n",
      "+---+-----+\n",
      "only showing top 20 rows\n",
      "\n"
     ]
    }
   ],
   "source": [
    "g.edges.groupBy('dst').count().orderBy('count', ascending=False).show()"
   ]
  },
  {
   "cell_type": "code",
   "execution_count": 11,
   "id": "4b87f855",
   "metadata": {},
   "outputs": [
    {
     "name": "stdout",
     "output_type": "stream",
     "text": [
      "+---+-----+\n",
      "|src|count|\n",
      "+---+-----+\n",
      "|ATL|31155|\n",
      "|ORD|26216|\n",
      "|DFW|23063|\n",
      "|CLT|19100|\n",
      "|DEN|18507|\n",
      "|LAX|17988|\n",
      "|PHX|14761|\n",
      "|IAH|14598|\n",
      "|LGA|13872|\n",
      "|SFO|13689|\n",
      "|LAS|13209|\n",
      "|MSP|12180|\n",
      "|DTW|12172|\n",
      "|MCO|12045|\n",
      "|DCA|11839|\n",
      "|BOS|11430|\n",
      "|EWR|10522|\n",
      "|JFK|10485|\n",
      "|SEA|10230|\n",
      "|SLC| 9339|\n",
      "+---+-----+\n",
      "only showing top 20 rows\n",
      "\n"
     ]
    }
   ],
   "source": [
    "g.edges.groupBy('src').count().orderBy('count', ascending=False).show()"
   ]
  },
  {
   "cell_type": "code",
   "execution_count": 12,
   "id": "8a1e94f7",
   "metadata": {},
   "outputs": [
    {
     "name": "stdout",
     "output_type": "stream",
     "text": [
      "+---+------+\n",
      "| id|degree|\n",
      "+---+------+\n",
      "|ATL| 62306|\n",
      "|ORD| 52428|\n",
      "|DFW| 46141|\n",
      "+---+------+\n",
      "only showing top 3 rows\n",
      "\n"
     ]
    }
   ],
   "source": [
    "g.degrees.orderBy('degree', ascending=False).show(3)"
   ]
  },
  {
   "cell_type": "code",
   "execution_count": 13,
   "id": "de66037a",
   "metadata": {},
   "outputs": [
    {
     "name": "stdout",
     "output_type": "stream",
     "text": [
      "+---+---+--------+\n",
      "|src|dst|DISTANCE|\n",
      "+---+---+--------+\n",
      "|HNL|JFK|  4983.0|\n",
      "|JFK|HNL|  4983.0|\n",
      "|HNL|EWR|  4962.0|\n",
      "|EWR|HNL|  4962.0|\n",
      "|HNL|IAD|  4817.0|\n",
      "|IAD|HNL|  4817.0|\n",
      "|HNL|ATL|  4502.0|\n",
      "|ATL|HNL|  4502.0|\n",
      "|HNL|ORD|  4243.0|\n",
      "|ORD|HNL|  4243.0|\n",
      "|OGG|ORD|  4184.0|\n",
      "|ORD|OGG|  4184.0|\n",
      "|MSP|HNL|  3972.0|\n",
      "|HNL|MSP|  3972.0|\n",
      "|HNL|IAH|  3904.0|\n",
      "|IAH|HNL|  3904.0|\n",
      "|HNL|GUM|  3801.0|\n",
      "|GUM|HNL|  3801.0|\n",
      "|HNL|DFW|  3784.0|\n",
      "|DFW|HNL|  3784.0|\n",
      "+---+---+--------+\n",
      "only showing top 20 rows\n",
      "\n"
     ]
    }
   ],
   "source": [
    "distance_greater = g.edges.select('src', 'dst', 'DISTANCE').filter('DISTANCE > 500').distinct().orderBy('DISTANCE', ascending=False)\n",
    "distance_greater.show()"
   ]
  },
  {
   "cell_type": "code",
   "execution_count": 14,
   "id": "ca14b773",
   "metadata": {},
   "outputs": [
    {
     "name": "stdout",
     "output_type": "stream",
     "text": [
      "+---+---+--------+\n",
      "|src|dst|DISTANCE|\n",
      "+---+---+--------+\n",
      "|JFK|HNL|  4983.0|\n",
      "|HNL|JFK|  4983.0|\n",
      "|EWR|HNL|  4962.0|\n",
      "|HNL|EWR|  4962.0|\n",
      "|IAD|HNL|  4817.0|\n",
      "|HNL|IAD|  4817.0|\n",
      "|ATL|HNL|  4502.0|\n",
      "|HNL|ATL|  4502.0|\n",
      "|ORD|HNL|  4243.0|\n",
      "|HNL|ORD|  4243.0|\n",
      "|ORD|OGG|  4184.0|\n",
      "|OGG|ORD|  4184.0|\n",
      "|HNL|MSP|  3972.0|\n",
      "|MSP|HNL|  3972.0|\n",
      "|IAH|HNL|  3904.0|\n",
      "|HNL|IAH|  3904.0|\n",
      "|HNL|GUM|  3801.0|\n",
      "|GUM|HNL|  3801.0|\n",
      "|HNL|DFW|  3784.0|\n",
      "|DFW|HNL|  3784.0|\n",
      "+---+---+--------+\n",
      "only showing top 20 rows\n",
      "\n"
     ]
    }
   ],
   "source": [
    "from pyspark.sql.functions import desc\n",
    "distance = g.edges.select('src', 'dst', 'DISTANCE').distinct().sort(desc('DISTANCE'))\n",
    "distance.show()"
   ]
  },
  {
   "cell_type": "code",
   "execution_count": 15,
   "id": "862a03cf",
   "metadata": {},
   "outputs": [],
   "source": [
    "from pyspark.sql.functions import col"
   ]
  },
  {
   "cell_type": "code",
   "execution_count": 16,
   "id": "67c9f427",
   "metadata": {
    "scrolled": true
   },
   "outputs": [
    {
     "name": "stderr",
     "output_type": "stream",
     "text": [
      "[Stage 52:=================================================>   (186 + 14) / 200]\r"
     ]
    },
    {
     "name": "stdout",
     "output_type": "stream",
     "text": [
      "+---+---+-----------------+\n",
      "| id| id|max(sum_distance)|\n",
      "+---+---+-----------------+\n",
      "|EWR|JFK|           9945.0|\n",
      "|JFK|EWR|           9945.0|\n",
      "|JFK|IAH|           8887.0|\n",
      "|IAH|JFK|           8887.0|\n",
      "|GUM|JFK|           8784.0|\n",
      "|JFK|GUM|           8784.0|\n",
      "|GUM|EWR|           8763.0|\n",
      "|EWR|GUM|           8763.0|\n",
      "|GUM|IAD|           8618.0|\n",
      "|IAD|GUM|           8618.0|\n",
      "|GUM|ATL|           8303.0|\n",
      "|ATL|GUM|           8303.0|\n",
      "|GUM|ORD|           8044.0|\n",
      "|ORD|GUM|           8044.0|\n",
      "|MSP|GUM|           7773.0|\n",
      "|GUM|MSP|           7773.0|\n",
      "|ANC|JFK|           7760.0|\n",
      "|JFK|ANC|           7760.0|\n",
      "|ANC|EWR|           7739.0|\n",
      "|EWR|ANC|           7739.0|\n",
      "+---+---+-----------------+\n",
      "only showing top 20 rows\n",
      "\n"
     ]
    },
    {
     "name": "stderr",
     "output_type": "stream",
     "text": [
      "\r",
      "                                                                                \r"
     ]
    }
   ],
   "source": [
    "import pyspark.sql.functions as F\n",
    "sub = GraphFrame(g.vertices, distance)\n",
    "r = sub.find(\"(a)-[ab]->(b); (b)-[bc]->(c); !(a)-[]->(c)\").filter('c.id != a.id')\n",
    "r2 = r.withColumn(\"sum_distance\", r.ab.DISTANCE + r.bc.DISTANCE).groupby('a.id','c.id').max('sum_distance').sort(desc('max(sum_distance)')).show()\n",
    "#r.count()"
   ]
  },
  {
   "cell_type": "markdown",
   "id": "49d35024",
   "metadata": {},
   "source": [
    "# find the airport \"a\" is connect to \"b\" and \"b\" is connect to \"c\" but \"a\" is not connect to \"c\""
   ]
  },
  {
   "cell_type": "code",
   "execution_count": 17,
   "id": "a4f314cf",
   "metadata": {},
   "outputs": [
    {
     "data": {
      "text/plain": [
       "342760"
      ]
     },
     "execution_count": 17,
     "metadata": {},
     "output_type": "execute_result"
    }
   ],
   "source": [
    "# Find chains of two flights\n",
    "result = sub.edges.alias(\"ab\") \\\n",
    "    .join(sub.edges.alias(\"bc\"), col(\"ab.dst\") == col(\"bc.src\")) \\\n",
    "    .select(col(\"ab.src\").alias(\"a\"), col(\"ab.dst\").alias(\"b\"), col(\"bc.dst\").alias(\"c\"))\n",
    "\n",
    "# Display the result\n",
    "result.count()"
   ]
  },
  {
   "cell_type": "code",
   "execution_count": 18,
   "id": "fc9ae673",
   "metadata": {
    "scrolled": true
   },
   "outputs": [
    {
     "name": "stderr",
     "output_type": "stream",
     "text": [
      "[Stage 69:======================================>              (144 + 16) / 200]\r"
     ]
    },
    {
     "name": "stdout",
     "output_type": "stream",
     "text": [
      "+---+---+-----------------+\n",
      "| id| id|max(sum_distance)|\n",
      "+---+---+-----------------+\n",
      "|IAD|JFK|           9800.0|\n",
      "|JFK|IAD|           9800.0|\n",
      "|IAD|EWR|           9779.0|\n",
      "|EWR|IAD|           9779.0|\n",
      "|ATL|JFK|           9485.0|\n",
      "|JFK|ATL|           9485.0|\n",
      "|EWR|ATL|           9464.0|\n",
      "|ATL|EWR|           9464.0|\n",
      "|IAD|ATL|           9319.0|\n",
      "|ATL|IAD|           9319.0|\n",
      "|JFK|ORD|           9226.0|\n",
      "|ORD|JFK|           9226.0|\n",
      "|EWR|ORD|           9205.0|\n",
      "|ORD|EWR|           9205.0|\n",
      "|IAD|ORD|           9060.0|\n",
      "|ORD|IAD|           9060.0|\n",
      "|JFK|MSP|           8955.0|\n",
      "|MSP|JFK|           8955.0|\n",
      "|EWR|MSP|           8934.0|\n",
      "|MSP|EWR|           8934.0|\n",
      "+---+---+-----------------+\n",
      "only showing top 20 rows\n",
      "\n"
     ]
    },
    {
     "name": "stderr",
     "output_type": "stream",
     "text": [
      "\r",
      "                                                                                \r"
     ]
    }
   ],
   "source": [
    "import pyspark.sql.functions as F\n",
    "sub = GraphFrame(g.vertices, distance)\n",
    "r = sub.find(\"(a)-[ab]->(b); (b)-[bc]->(c); (a)-[]->(c)\").filter('c.id != a.id')\n",
    "r2 = r.withColumn(\"sum_distance\", r.ab.DISTANCE + r.bc.DISTANCE).groupby('a.id','c.id').max('sum_distance').sort(desc('max(sum_distance)')).show()\n",
    "#r.count()"
   ]
  },
  {
   "cell_type": "code",
   "execution_count": 19,
   "id": "a4861b46",
   "metadata": {},
   "outputs": [
    {
     "ename": "AttributeError",
     "evalue": "'tuple' object has no attribute 'select'",
     "output_type": "error",
     "traceback": [
      "\u001b[0;31m---------------------------------------------------------------------------\u001b[0m",
      "\u001b[0;31mAttributeError\u001b[0m                            Traceback (most recent call last)",
      "\u001b[0;32m/tmp/ipykernel_69294/855333300.py\u001b[0m in \u001b[0;36m<module>\u001b[0;34m\u001b[0m\n\u001b[1;32m      1\u001b[0m \u001b[0;31m# Find chains of two flights\u001b[0m\u001b[0;34m\u001b[0m\u001b[0;34m\u001b[0m\u001b[0m\n\u001b[1;32m      2\u001b[0m \u001b[0mresult\u001b[0m \u001b[0;34m=\u001b[0m \u001b[0msub\u001b[0m\u001b[0;34m.\u001b[0m\u001b[0medges\u001b[0m\u001b[0;34m.\u001b[0m\u001b[0malias\u001b[0m\u001b[0;34m(\u001b[0m\u001b[0;34m\"ab\"\u001b[0m\u001b[0;34m)\u001b[0m\u001b[0;31m \u001b[0m\u001b[0;31m\\\u001b[0m\u001b[0;34m\u001b[0m\u001b[0;34m\u001b[0m\u001b[0m\n\u001b[0;32m----> 3\u001b[0;31m     \u001b[0;34m.\u001b[0m\u001b[0mjoin\u001b[0m\u001b[0;34m(\u001b[0m\u001b[0msub\u001b[0m\u001b[0;34m.\u001b[0m\u001b[0medges\u001b[0m\u001b[0;34m.\u001b[0m\u001b[0malias\u001b[0m\u001b[0;34m(\u001b[0m\u001b[0;34m\"bc\"\u001b[0m\u001b[0;34m)\u001b[0m\u001b[0;34m,\u001b[0m \u001b[0mcol\u001b[0m\u001b[0;34m(\u001b[0m\u001b[0;34m\"ab.dst\"\u001b[0m\u001b[0;34m)\u001b[0m \u001b[0;34m==\u001b[0m \u001b[0mcol\u001b[0m\u001b[0;34m(\u001b[0m\u001b[0;34m\"bc.src\"\u001b[0m\u001b[0;34m)\u001b[0m\u001b[0;34m)\u001b[0m \u001b[0;34m&\u001b[0m \u001b[0;34m(\u001b[0m\u001b[0;34m)\u001b[0m\u001b[0;31m \u001b[0m\u001b[0;31m\\\u001b[0m\u001b[0;34m\u001b[0m\u001b[0;34m\u001b[0m\u001b[0m\n\u001b[0m\u001b[1;32m      4\u001b[0m     \u001b[0;34m.\u001b[0m\u001b[0mselect\u001b[0m\u001b[0;34m(\u001b[0m\u001b[0mcol\u001b[0m\u001b[0;34m(\u001b[0m\u001b[0;34m\"ab.src\"\u001b[0m\u001b[0;34m)\u001b[0m\u001b[0;34m.\u001b[0m\u001b[0malias\u001b[0m\u001b[0;34m(\u001b[0m\u001b[0;34m\"a\"\u001b[0m\u001b[0;34m)\u001b[0m\u001b[0;34m,\u001b[0m \u001b[0mcol\u001b[0m\u001b[0;34m(\u001b[0m\u001b[0;34m\"ab.dst\"\u001b[0m\u001b[0;34m)\u001b[0m\u001b[0;34m.\u001b[0m\u001b[0malias\u001b[0m\u001b[0;34m(\u001b[0m\u001b[0;34m\"b\"\u001b[0m\u001b[0;34m)\u001b[0m\u001b[0;34m,\u001b[0m \u001b[0mcol\u001b[0m\u001b[0;34m(\u001b[0m\u001b[0;34m\"bc.dst\"\u001b[0m\u001b[0;34m)\u001b[0m\u001b[0;34m.\u001b[0m\u001b[0malias\u001b[0m\u001b[0;34m(\u001b[0m\u001b[0;34m\"c\"\u001b[0m\u001b[0;34m)\u001b[0m\u001b[0;34m)\u001b[0m\u001b[0;34m\u001b[0m\u001b[0;34m\u001b[0m\u001b[0m\n\u001b[1;32m      5\u001b[0m \u001b[0;34m\u001b[0m\u001b[0m\n",
      "\u001b[0;31mAttributeError\u001b[0m: 'tuple' object has no attribute 'select'"
     ]
    }
   ],
   "source": [
    "# Find chains of two flights\n",
    "result = sub.edges.alias(\"ab\") \\\n",
    "    .join(sub.edges.alias(\"bc\"), col(\"ab.dst\") == col(\"bc.src\")) & () \\\n",
    "    .select(col(\"ab.src\").alias(\"a\"), col(\"ab.dst\").alias(\"b\"), col(\"bc.dst\").alias(\"c\"))\n",
    "\n",
    "# Display the result\n",
    "result.count()"
   ]
  },
  {
   "cell_type": "code",
   "execution_count": null,
   "id": "cdc5bb70",
   "metadata": {},
   "outputs": [],
   "source": []
  },
  {
   "cell_type": "code",
   "execution_count": null,
   "id": "13036ded",
   "metadata": {},
   "outputs": [],
   "source": []
  },
  {
   "cell_type": "code",
   "execution_count": null,
   "id": "57a87850",
   "metadata": {},
   "outputs": [],
   "source": []
  },
  {
   "cell_type": "code",
   "execution_count": null,
   "id": "19cfa40e",
   "metadata": {
    "scrolled": true
   },
   "outputs": [],
   "source": [
    "sub2 = GraphFrame(g.vertices, distance)\n",
    "result = sub2.find(\"(a)-[ab]->(b); (b)-[bc]->(c); !(a)-[]->(c)\").filter(\"a.id = 'JFK'\").filter(\"c.id = 'EWR'\")\n",
    "result.show(100)"
   ]
  },
  {
   "cell_type": "code",
   "execution_count": null,
   "id": "3fe67951",
   "metadata": {},
   "outputs": [],
   "source": []
  },
  {
   "cell_type": "code",
   "execution_count": null,
   "id": "2234206c",
   "metadata": {},
   "outputs": [],
   "source": []
  }
 ],
 "metadata": {
  "kernelspec": {
   "display_name": "Python 3 (ipykernel)",
   "language": "python",
   "name": "python3"
  },
  "language_info": {
   "codemirror_mode": {
    "name": "ipython",
    "version": 3
   },
   "file_extension": ".py",
   "mimetype": "text/x-python",
   "name": "python",
   "nbconvert_exporter": "python",
   "pygments_lexer": "ipython3",
   "version": "3.9.7"
  }
 },
 "nbformat": 4,
 "nbformat_minor": 5
}
