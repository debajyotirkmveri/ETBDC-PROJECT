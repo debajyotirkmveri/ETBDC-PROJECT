{
 "cells": [
  {
   "cell_type": "code",
   "execution_count": 1,
   "id": "3da3b670",
   "metadata": {},
   "outputs": [
    {
     "name": "stdout",
     "output_type": "stream",
     "text": [
      "root\n",
      " |-- ORIGIN_AIRPORT_ID: integer (nullable = true)\n",
      " |-- DEST_AIRPORT_ID: integer (nullable = true)\n",
      " |-- ORIGIN: string (nullable = true)\n",
      " |-- DEST: string (nullable = true)\n",
      " |-- DISTANCE: double (nullable = true)\n",
      "\n"
     ]
    }
   ],
   "source": [
    "import pyspark     # Call this only after findspark.init()\n",
    "from pyspark.context import SparkContext\n",
    "from pyspark.sql.session import SparkSession\n",
    "\n",
    "sc = SparkContext.getOrCreate()\n",
    "spark = SparkSession(sc)\n",
    "\n",
    "df = spark.read.csv(\"/home/sysadm/Downloads/check.csv\", header = True, inferSchema = True)\n",
    "df.printSchema()"
   ]
  },
  {
   "cell_type": "code",
   "execution_count": null,
   "id": "35d79289",
   "metadata": {},
   "outputs": [],
   "source": []
  },
  {
   "cell_type": "code",
   "execution_count": 2,
   "id": "41edbff6",
   "metadata": {},
   "outputs": [],
   "source": [
    "df_vertices = df.select('ORIGIN', 'ORIGIN_AIRPORT_ID').dropDuplicates(['ORIGIN']).withColumnRenamed('ORIGIN', 'id')"
   ]
  },
  {
   "cell_type": "code",
   "execution_count": 3,
   "id": "caadb791",
   "metadata": {},
   "outputs": [],
   "source": [
    "df_edges = df.withColumnRenamed('ORIGIN', 'src').withColumnRenamed('DEST', 'dst')"
   ]
  },
  {
   "cell_type": "code",
   "execution_count": 4,
   "id": "34b971fd",
   "metadata": {},
   "outputs": [],
   "source": [
    "from graphframes import *\n",
    "\n",
    "g = GraphFrame(df_vertices, df_edges)"
   ]
  },
  {
   "cell_type": "code",
   "execution_count": 5,
   "id": "95437692",
   "metadata": {},
   "outputs": [
    {
     "name": "stdout",
     "output_type": "stream",
     "text": [
      "+-----------------+---------------+---+---+--------+\n",
      "|ORIGIN_AIRPORT_ID|DEST_AIRPORT_ID|src|dst|DISTANCE|\n",
      "+-----------------+---------------+---+---+--------+\n",
      "|            11953|          10397|GNV|ATL|   300.0|\n",
      "|            13487|          11193|MSP|CVG|   596.0|\n",
      "|            11433|          11193|DTW|CVG|   229.0|\n",
      "|            15249|          10397|TLH|ATL|   223.0|\n",
      "|            10397|          11778|ATL|FSM|   579.0|\n",
      "|            11267|          13487|DAY|MSP|   574.0|\n",
      "|            12448|          10397|JAN|ATL|   341.0|\n",
      "|            12953|          11193|LGA|CVG|   585.0|\n",
      "|            12451|          12953|JAX|LGA|   833.0|\n",
      "|            10397|          10685|ATL|BMI|   533.0|\n",
      "+-----------------+---------------+---+---+--------+\n",
      "\n"
     ]
    }
   ],
   "source": [
    "df_edges.show()"
   ]
  },
  {
   "cell_type": "code",
   "execution_count": null,
   "id": "9fc76129",
   "metadata": {},
   "outputs": [],
   "source": []
  },
  {
   "cell_type": "code",
   "execution_count": null,
   "id": "8e6e79d4",
   "metadata": {},
   "outputs": [],
   "source": []
  },
  {
   "cell_type": "code",
   "execution_count": null,
   "id": "7e73e90c",
   "metadata": {},
   "outputs": [],
   "source": []
  },
  {
   "cell_type": "code",
   "execution_count": 6,
   "id": "e14a803b",
   "metadata": {},
   "outputs": [
    {
     "name": "stdout",
     "output_type": "stream",
     "text": [
      "Number of edges: 10\n"
     ]
    }
   ],
   "source": [
    "from graphframes import GraphFrame\n",
    "\n",
    "# Assuming you have created the GraphFrame object 'g' using df_vertices and df_edges\n",
    "num_edges = g.edges.count()\n",
    "print(\"Number of edges:\", num_edges)\n"
   ]
  },
  {
   "cell_type": "code",
   "execution_count": 7,
   "id": "42fdc1e1",
   "metadata": {},
   "outputs": [
    {
     "name": "stdout",
     "output_type": "stream",
     "text": [
      "Number of vertices: 9\n",
      "+---+-----------------+\n",
      "| id|ORIGIN_AIRPORT_ID|\n",
      "+---+-----------------+\n",
      "|TLH|            15249|\n",
      "|LGA|            12953|\n",
      "|JAN|            12448|\n",
      "|ATL|            10397|\n",
      "|DAY|            11267|\n",
      "|DTW|            11433|\n",
      "|JAX|            12451|\n",
      "|MSP|            13487|\n",
      "|GNV|            11953|\n",
      "+---+-----------------+\n",
      "\n"
     ]
    }
   ],
   "source": [
    "from graphframes import GraphFrame\n",
    "\n",
    "# Assuming you have created the GraphFrame object 'g' using df_vertices and df_edges\n",
    "vertices_df = g.vertices\n",
    "\n",
    "# Count the number of vertices\n",
    "num_vertices = vertices_df.count()\n",
    "print(\"Number of vertices:\", num_vertices)\n",
    "\n",
    "# Show the vertices DataFrame\n",
    "vertices_df.show()\n"
   ]
  },
  {
   "cell_type": "code",
   "execution_count": null,
   "id": "88161b3c",
   "metadata": {},
   "outputs": [],
   "source": []
  },
  {
   "cell_type": "code",
   "execution_count": 8,
   "id": "653f54c8",
   "metadata": {},
   "outputs": [],
   "source": [
    "from pyspark.sql import SparkSession\n",
    "from graphframes import GraphFrame\n",
    "\n",
    "# Create a SparkSession\n",
    "spark = SparkSession.builder.getOrCreate()\n",
    "from pyspark.sql import SparkSession\n",
    "from pyspark.sql.functions import col"
   ]
  },
  {
   "cell_type": "code",
   "execution_count": 9,
   "id": "7c4c91cf",
   "metadata": {},
   "outputs": [],
   "source": [
    "from graphframes import *\n",
    "\n",
    "g = GraphFrame(df_vertices, df_edges)"
   ]
  },
  {
   "cell_type": "code",
   "execution_count": 10,
   "id": "a49042f5",
   "metadata": {},
   "outputs": [
    {
     "name": "stdout",
     "output_type": "stream",
     "text": [
      "+---+---+--------+\n",
      "|src|dst|DISTANCE|\n",
      "+---+---+--------+\n",
      "|JAX|LGA|   833.0|\n",
      "|MSP|CVG|   596.0|\n",
      "|LGA|CVG|   585.0|\n",
      "|ATL|FSM|   579.0|\n",
      "|DAY|MSP|   574.0|\n",
      "|ATL|BMI|   533.0|\n",
      "|JAN|ATL|   341.0|\n",
      "|GNV|ATL|   300.0|\n",
      "|DTW|CVG|   229.0|\n",
      "|TLH|ATL|   223.0|\n",
      "+---+---+--------+\n",
      "\n"
     ]
    }
   ],
   "source": [
    "from pyspark.sql.functions import desc\n",
    "distance = g.edges.select('src', 'dst', 'DISTANCE').distinct().sort(desc('DISTANCE'))\n",
    "distance.show()"
   ]
  },
  {
   "cell_type": "code",
   "execution_count": 11,
   "id": "6cb106af",
   "metadata": {},
   "outputs": [],
   "source": [
    "import pyspark.sql.functions as F\n",
    "sub = GraphFrame(g.vertices, distance)"
   ]
  },
  {
   "cell_type": "code",
   "execution_count": 12,
   "id": "271da933",
   "metadata": {},
   "outputs": [
    {
     "data": {
      "text/plain": [
       "8"
      ]
     },
     "execution_count": 12,
     "metadata": {},
     "output_type": "execute_result"
    }
   ],
   "source": [
    "# Find chains of two flights\n",
    "result = sub.edges.alias(\"ab\") \\\n",
    "    .join(sub.edges.alias(\"bc\"), col(\"ab.dst\") == col(\"bc.src\")) \\\n",
    "    .select(col(\"ab.src\").alias(\"a\"), col(\"ab.dst\").alias(\"b\"), col(\"bc.dst\").alias(\"c\"))\n",
    "\n",
    "# Display the result\n",
    "result.count()"
   ]
  },
  {
   "cell_type": "code",
   "execution_count": 13,
   "id": "ecb3caf1",
   "metadata": {},
   "outputs": [
    {
     "data": {
      "text/plain": [
       "8"
      ]
     },
     "execution_count": 13,
     "metadata": {},
     "output_type": "execute_result"
    }
   ],
   "source": [
    "# Find chains of two flights where the origin and destination are not directly connected\n",
    "result = sub.edges.alias(\"ab\") \\\n",
    "    .join(sub.edges.alias(\"bc\"), (col(\"ab.dst\") == col(\"bc.src\")) & (col(\"ab.src\") != col(\"bc.dst\"))) \\\n",
    "    .select(col(\"ab.src\").alias(\"a\"), col(\"ab.dst\").alias(\"b\"), col(\"bc.dst\").alias(\"c\"))\n",
    "\n",
    "# Display the result\n",
    "result.count()"
   ]
  },
  {
   "cell_type": "code",
   "execution_count": null,
   "id": "b700695f",
   "metadata": {},
   "outputs": [],
   "source": []
  }
 ],
 "metadata": {
  "kernelspec": {
   "display_name": "Python 3 (ipykernel)",
   "language": "python",
   "name": "python3"
  },
  "language_info": {
   "codemirror_mode": {
    "name": "ipython",
    "version": 3
   },
   "file_extension": ".py",
   "mimetype": "text/x-python",
   "name": "python",
   "nbconvert_exporter": "python",
   "pygments_lexer": "ipython3",
   "version": "3.9.7"
  }
 },
 "nbformat": 4,
 "nbformat_minor": 5
}
